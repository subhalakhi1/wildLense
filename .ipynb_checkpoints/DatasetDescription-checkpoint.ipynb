{
 "cells": [
  {
   "cell_type": "code",
   "execution_count": 1,
   "id": "3ec8ede3",
   "metadata": {},
   "outputs": [],
   "source": [
    "import os\n",
    "import pandas as pd"
   ]
  },
  {
   "cell_type": "code",
   "execution_count": 2,
   "id": "0d788e29",
   "metadata": {},
   "outputs": [
    {
     "data": {
      "text/plain": [
       "'/home/uddi22/Desktop/wildLense/wild/Dataset'"
      ]
     },
     "execution_count": 2,
     "metadata": {},
     "output_type": "execute_result"
    }
   ],
   "source": [
    "cw_dir = os.getcwd()\n",
    "x = \"/Dataset\"\n",
    "start_dir = cw_dir + x\n",
    "start_dir"
   ]
  },
  {
   "cell_type": "markdown",
   "id": "6a63844f",
   "metadata": {},
   "source": [
    "### Classes"
   ]
  },
  {
   "cell_type": "code",
   "execution_count": 3,
   "id": "f07df60b",
   "metadata": {},
   "outputs": [
    {
     "data": {
      "text/plain": [
       "['Eryngium foetidum',\n",
       " 'chromolaena odorata (L.) Voigt',\n",
       " 'Amaranthus viridis L',\n",
       " 'Justicia adhatoda L. Syn.  Adhatoda vasica Nees',\n",
       " 'Hydrocotyle sibthorpioides Lamk',\n",
       " 'Xanthosoma nigrum Vell',\n",
       " 'Xanthosoma sagittifolium L']"
      ]
     },
     "execution_count": 3,
     "metadata": {},
     "output_type": "execute_result"
    }
   ],
   "source": [
    "os.listdir(start_dir)"
   ]
  },
  {
   "cell_type": "markdown",
   "id": "d3548938",
   "metadata": {},
   "source": [
    "### Renaming the files"
   ]
  },
  {
   "cell_type": "code",
   "execution_count": 4,
   "id": "969786df",
   "metadata": {},
   "outputs": [
    {
     "name": "stdout",
     "output_type": "stream",
     "text": [
      "/home/uddi22/Desktop/wildLense/wild/Dataset/Eryngium foetidum/1.jpg\n",
      "/home/uddi22/Desktop/wildLense/wild/Dataset/Eryngium foetidum/2.jpg\n",
      "/home/uddi22/Desktop/wildLense/wild/Dataset/Eryngium foetidum/3.jpg\n",
      "/home/uddi22/Desktop/wildLense/wild/Dataset/Eryngium foetidum/4.jpg\n",
      "/home/uddi22/Desktop/wildLense/wild/Dataset/Eryngium foetidum/5.jpg\n",
      "/home/uddi22/Desktop/wildLense/wild/Dataset/Eryngium foetidum/6.jpg\n",
      "/home/uddi22/Desktop/wildLense/wild/Dataset/Eryngium foetidum/7.jpg\n",
      "/home/uddi22/Desktop/wildLense/wild/Dataset/Eryngium foetidum/8.jpg\n",
      "/home/uddi22/Desktop/wildLense/wild/Dataset/Eryngium foetidum/9.jpg\n",
      "/home/uddi22/Desktop/wildLense/wild/Dataset/Eryngium foetidum/10.jpg\n",
      "/home/uddi22/Desktop/wildLense/wild/Dataset/Eryngium foetidum/11.jpg\n",
      "/home/uddi22/Desktop/wildLense/wild/Dataset/Eryngium foetidum/12.jpg\n",
      "/home/uddi22/Desktop/wildLense/wild/Dataset/Eryngium foetidum/13.jpg\n",
      "/home/uddi22/Desktop/wildLense/wild/Dataset/Eryngium foetidum/14.jpg\n",
      "/home/uddi22/Desktop/wildLense/wild/Dataset/Eryngium foetidum/15.jpg\n",
      "/home/uddi22/Desktop/wildLense/wild/Dataset/chromolaena odorata (L.) Voigt/1.jpg\n",
      "/home/uddi22/Desktop/wildLense/wild/Dataset/chromolaena odorata (L.) Voigt/2.jpg\n",
      "/home/uddi22/Desktop/wildLense/wild/Dataset/chromolaena odorata (L.) Voigt/3.jpg\n",
      "/home/uddi22/Desktop/wildLense/wild/Dataset/chromolaena odorata (L.) Voigt/4.jpg\n",
      "/home/uddi22/Desktop/wildLense/wild/Dataset/chromolaena odorata (L.) Voigt/5.jpg\n",
      "/home/uddi22/Desktop/wildLense/wild/Dataset/chromolaena odorata (L.) Voigt/6.jpg\n",
      "/home/uddi22/Desktop/wildLense/wild/Dataset/chromolaena odorata (L.) Voigt/7.jpg\n",
      "/home/uddi22/Desktop/wildLense/wild/Dataset/chromolaena odorata (L.) Voigt/8.jpg\n",
      "/home/uddi22/Desktop/wildLense/wild/Dataset/chromolaena odorata (L.) Voigt/9.jpg\n",
      "/home/uddi22/Desktop/wildLense/wild/Dataset/chromolaena odorata (L.) Voigt/10.jpg\n",
      "/home/uddi22/Desktop/wildLense/wild/Dataset/chromolaena odorata (L.) Voigt/11.jpg\n",
      "/home/uddi22/Desktop/wildLense/wild/Dataset/chromolaena odorata (L.) Voigt/12.jpg\n",
      "/home/uddi22/Desktop/wildLense/wild/Dataset/chromolaena odorata (L.) Voigt/13.mp4\n",
      "/home/uddi22/Desktop/wildLense/wild/Dataset/chromolaena odorata (L.) Voigt/14.jpg\n",
      "/home/uddi22/Desktop/wildLense/wild/Dataset/Amaranthus viridis L/1.jpg\n",
      "/home/uddi22/Desktop/wildLense/wild/Dataset/Amaranthus viridis L/2.jpg\n",
      "/home/uddi22/Desktop/wildLense/wild/Dataset/Amaranthus viridis L/3.jpg\n",
      "/home/uddi22/Desktop/wildLense/wild/Dataset/Amaranthus viridis L/4.jpg\n",
      "/home/uddi22/Desktop/wildLense/wild/Dataset/Amaranthus viridis L/5.jpg\n",
      "/home/uddi22/Desktop/wildLense/wild/Dataset/Amaranthus viridis L/6.jpg\n",
      "/home/uddi22/Desktop/wildLense/wild/Dataset/Amaranthus viridis L/7.jpg\n",
      "/home/uddi22/Desktop/wildLense/wild/Dataset/Amaranthus viridis L/8.jpg\n",
      "/home/uddi22/Desktop/wildLense/wild/Dataset/Amaranthus viridis L/9.jpg\n",
      "/home/uddi22/Desktop/wildLense/wild/Dataset/Amaranthus viridis L/10.jpg\n",
      "/home/uddi22/Desktop/wildLense/wild/Dataset/Amaranthus viridis L/11.jpg\n",
      "/home/uddi22/Desktop/wildLense/wild/Dataset/Amaranthus viridis L/12.jpg\n",
      "/home/uddi22/Desktop/wildLense/wild/Dataset/Amaranthus viridis L/13.jpg\n",
      "/home/uddi22/Desktop/wildLense/wild/Dataset/Amaranthus viridis L/14.jpg\n",
      "/home/uddi22/Desktop/wildLense/wild/Dataset/Amaranthus viridis L/15.jpg\n",
      "/home/uddi22/Desktop/wildLense/wild/Dataset/Amaranthus viridis L/16.jpg\n",
      "/home/uddi22/Desktop/wildLense/wild/Dataset/Amaranthus viridis L/17.webp\n",
      "/home/uddi22/Desktop/wildLense/wild/Dataset/Amaranthus viridis L/18.jpg\n",
      "/home/uddi22/Desktop/wildLense/wild/Dataset/Amaranthus viridis L/19.jpg\n",
      "/home/uddi22/Desktop/wildLense/wild/Dataset/Amaranthus viridis L/20.jpg\n",
      "/home/uddi22/Desktop/wildLense/wild/Dataset/Amaranthus viridis L/21.jpg\n",
      "/home/uddi22/Desktop/wildLense/wild/Dataset/Amaranthus viridis L/22.webp\n",
      "/home/uddi22/Desktop/wildLense/wild/Dataset/Amaranthus viridis L/23.jpg\n",
      "/home/uddi22/Desktop/wildLense/wild/Dataset/Amaranthus viridis L/24.jpg\n",
      "/home/uddi22/Desktop/wildLense/wild/Dataset/Amaranthus viridis L/25.jpg\n",
      "/home/uddi22/Desktop/wildLense/wild/Dataset/Amaranthus viridis L/26.jpg\n",
      "/home/uddi22/Desktop/wildLense/wild/Dataset/Amaranthus viridis L/27.jpg\n",
      "/home/uddi22/Desktop/wildLense/wild/Dataset/Amaranthus viridis L/28.jpg\n",
      "/home/uddi22/Desktop/wildLense/wild/Dataset/Amaranthus viridis L/29.jpg\n",
      "/home/uddi22/Desktop/wildLense/wild/Dataset/Amaranthus viridis L/30.jpeg\n",
      "/home/uddi22/Desktop/wildLense/wild/Dataset/Amaranthus viridis L/31.jpg\n",
      "/home/uddi22/Desktop/wildLense/wild/Dataset/Amaranthus viridis L/32.jpg\n",
      "/home/uddi22/Desktop/wildLense/wild/Dataset/Amaranthus viridis L/33.jpg\n",
      "/home/uddi22/Desktop/wildLense/wild/Dataset/Amaranthus viridis L/34.jpg\n",
      "/home/uddi22/Desktop/wildLense/wild/Dataset/Amaranthus viridis L/35.jpg\n",
      "/home/uddi22/Desktop/wildLense/wild/Dataset/Amaranthus viridis L/36.webp\n",
      "/home/uddi22/Desktop/wildLense/wild/Dataset/Amaranthus viridis L/37.jpg\n",
      "/home/uddi22/Desktop/wildLense/wild/Dataset/Amaranthus viridis L/38.jpg\n",
      "/home/uddi22/Desktop/wildLense/wild/Dataset/Amaranthus viridis L/39.jpg\n",
      "/home/uddi22/Desktop/wildLense/wild/Dataset/Amaranthus viridis L/40.jpg\n",
      "/home/uddi22/Desktop/wildLense/wild/Dataset/Amaranthus viridis L/41.jpg\n",
      "/home/uddi22/Desktop/wildLense/wild/Dataset/Amaranthus viridis L/42.jpg\n",
      "/home/uddi22/Desktop/wildLense/wild/Dataset/Amaranthus viridis L/43.jpg\n",
      "/home/uddi22/Desktop/wildLense/wild/Dataset/Amaranthus viridis L/44.jpeg\n",
      "/home/uddi22/Desktop/wildLense/wild/Dataset/Amaranthus viridis L/45.jpg\n",
      "/home/uddi22/Desktop/wildLense/wild/Dataset/Amaranthus viridis L/46.jpg\n",
      "/home/uddi22/Desktop/wildLense/wild/Dataset/Amaranthus viridis L/47.jpg\n",
      "/home/uddi22/Desktop/wildLense/wild/Dataset/Amaranthus viridis L/48.jpg\n",
      "/home/uddi22/Desktop/wildLense/wild/Dataset/Amaranthus viridis L/49.jpg\n",
      "/home/uddi22/Desktop/wildLense/wild/Dataset/Amaranthus viridis L/50.jpg\n",
      "/home/uddi22/Desktop/wildLense/wild/Dataset/Amaranthus viridis L/51.jpg\n",
      "/home/uddi22/Desktop/wildLense/wild/Dataset/Amaranthus viridis L/52.jpg\n",
      "/home/uddi22/Desktop/wildLense/wild/Dataset/Amaranthus viridis L/53.jpg\n",
      "/home/uddi22/Desktop/wildLense/wild/Dataset/Amaranthus viridis L/54.jpeg\n",
      "/home/uddi22/Desktop/wildLense/wild/Dataset/Amaranthus viridis L/55.jpg\n",
      "/home/uddi22/Desktop/wildLense/wild/Dataset/Amaranthus viridis L/56.jpg\n",
      "/home/uddi22/Desktop/wildLense/wild/Dataset/Amaranthus viridis L/57.jpg\n",
      "/home/uddi22/Desktop/wildLense/wild/Dataset/Amaranthus viridis L/58.jpg\n",
      "/home/uddi22/Desktop/wildLense/wild/Dataset/Amaranthus viridis L/59.jpg\n",
      "/home/uddi22/Desktop/wildLense/wild/Dataset/Amaranthus viridis L/60.jpg\n",
      "/home/uddi22/Desktop/wildLense/wild/Dataset/Amaranthus viridis L/61.jpg\n",
      "/home/uddi22/Desktop/wildLense/wild/Dataset/Amaranthus viridis L/62.jpg\n",
      "/home/uddi22/Desktop/wildLense/wild/Dataset/Amaranthus viridis L/63.jpg\n",
      "/home/uddi22/Desktop/wildLense/wild/Dataset/Amaranthus viridis L/64.webp\n",
      "/home/uddi22/Desktop/wildLense/wild/Dataset/Justicia adhatoda L. Syn.  Adhatoda vasica Nees/1.jpg\n",
      "/home/uddi22/Desktop/wildLense/wild/Dataset/Justicia adhatoda L. Syn.  Adhatoda vasica Nees/2.jpg\n",
      "/home/uddi22/Desktop/wildLense/wild/Dataset/Justicia adhatoda L. Syn.  Adhatoda vasica Nees/3.jpg\n",
      "/home/uddi22/Desktop/wildLense/wild/Dataset/Justicia adhatoda L. Syn.  Adhatoda vasica Nees/4.jpg\n",
      "/home/uddi22/Desktop/wildLense/wild/Dataset/Justicia adhatoda L. Syn.  Adhatoda vasica Nees/5.jpg\n",
      "/home/uddi22/Desktop/wildLense/wild/Dataset/Justicia adhatoda L. Syn.  Adhatoda vasica Nees/6.jpg\n",
      "/home/uddi22/Desktop/wildLense/wild/Dataset/Justicia adhatoda L. Syn.  Adhatoda vasica Nees/7.jpg\n",
      "/home/uddi22/Desktop/wildLense/wild/Dataset/Justicia adhatoda L. Syn.  Adhatoda vasica Nees/8.jpg\n",
      "/home/uddi22/Desktop/wildLense/wild/Dataset/Justicia adhatoda L. Syn.  Adhatoda vasica Nees/9.jpg\n",
      "/home/uddi22/Desktop/wildLense/wild/Dataset/Justicia adhatoda L. Syn.  Adhatoda vasica Nees/10.jpg\n",
      "/home/uddi22/Desktop/wildLense/wild/Dataset/Justicia adhatoda L. Syn.  Adhatoda vasica Nees/11.jpg\n",
      "/home/uddi22/Desktop/wildLense/wild/Dataset/Justicia adhatoda L. Syn.  Adhatoda vasica Nees/12.jpg\n",
      "/home/uddi22/Desktop/wildLense/wild/Dataset/Justicia adhatoda L. Syn.  Adhatoda vasica Nees/13.jpg\n",
      "/home/uddi22/Desktop/wildLense/wild/Dataset/Justicia adhatoda L. Syn.  Adhatoda vasica Nees/14.jpg\n",
      "/home/uddi22/Desktop/wildLense/wild/Dataset/Justicia adhatoda L. Syn.  Adhatoda vasica Nees/15.jpg\n",
      "/home/uddi22/Desktop/wildLense/wild/Dataset/Justicia adhatoda L. Syn.  Adhatoda vasica Nees/16.jpg\n",
      "/home/uddi22/Desktop/wildLense/wild/Dataset/Justicia adhatoda L. Syn.  Adhatoda vasica Nees/17.jpg\n",
      "/home/uddi22/Desktop/wildLense/wild/Dataset/Justicia adhatoda L. Syn.  Adhatoda vasica Nees/18.jpg\n",
      "/home/uddi22/Desktop/wildLense/wild/Dataset/Justicia adhatoda L. Syn.  Adhatoda vasica Nees/19.jpg\n",
      "/home/uddi22/Desktop/wildLense/wild/Dataset/Hydrocotyle sibthorpioides Lamk/1.jpg\n",
      "/home/uddi22/Desktop/wildLense/wild/Dataset/Hydrocotyle sibthorpioides Lamk/2.jpg\n",
      "/home/uddi22/Desktop/wildLense/wild/Dataset/Hydrocotyle sibthorpioides Lamk/3.jpg\n",
      "/home/uddi22/Desktop/wildLense/wild/Dataset/Hydrocotyle sibthorpioides Lamk/4.jpg\n",
      "/home/uddi22/Desktop/wildLense/wild/Dataset/Hydrocotyle sibthorpioides Lamk/5.jpg\n",
      "/home/uddi22/Desktop/wildLense/wild/Dataset/Hydrocotyle sibthorpioides Lamk/6.jpg\n",
      "/home/uddi22/Desktop/wildLense/wild/Dataset/Hydrocotyle sibthorpioides Lamk/7.jpg\n",
      "/home/uddi22/Desktop/wildLense/wild/Dataset/Hydrocotyle sibthorpioides Lamk/8.jpg\n",
      "/home/uddi22/Desktop/wildLense/wild/Dataset/Hydrocotyle sibthorpioides Lamk/9.jpg\n",
      "/home/uddi22/Desktop/wildLense/wild/Dataset/Hydrocotyle sibthorpioides Lamk/10.jpg\n",
      "/home/uddi22/Desktop/wildLense/wild/Dataset/Hydrocotyle sibthorpioides Lamk/11.jpg\n",
      "/home/uddi22/Desktop/wildLense/wild/Dataset/Hydrocotyle sibthorpioides Lamk/12.jpg\n",
      "/home/uddi22/Desktop/wildLense/wild/Dataset/Hydrocotyle sibthorpioides Lamk/13.jpg\n",
      "/home/uddi22/Desktop/wildLense/wild/Dataset/Hydrocotyle sibthorpioides Lamk/14.jpg\n",
      "/home/uddi22/Desktop/wildLense/wild/Dataset/Hydrocotyle sibthorpioides Lamk/15.jpg\n",
      "/home/uddi22/Desktop/wildLense/wild/Dataset/Hydrocotyle sibthorpioides Lamk/16.jpg\n",
      "/home/uddi22/Desktop/wildLense/wild/Dataset/Hydrocotyle sibthorpioides Lamk/17.jpg\n",
      "/home/uddi22/Desktop/wildLense/wild/Dataset/Hydrocotyle sibthorpioides Lamk/18.jpg\n",
      "/home/uddi22/Desktop/wildLense/wild/Dataset/Hydrocotyle sibthorpioides Lamk/19.jpg\n",
      "/home/uddi22/Desktop/wildLense/wild/Dataset/Xanthosoma nigrum Vell/1.jpg\n",
      "/home/uddi22/Desktop/wildLense/wild/Dataset/Xanthosoma nigrum Vell/2.jpg\n",
      "/home/uddi22/Desktop/wildLense/wild/Dataset/Xanthosoma nigrum Vell/3.jpg\n",
      "/home/uddi22/Desktop/wildLense/wild/Dataset/Xanthosoma nigrum Vell/4.jpg\n",
      "/home/uddi22/Desktop/wildLense/wild/Dataset/Xanthosoma nigrum Vell/5.jpg\n",
      "/home/uddi22/Desktop/wildLense/wild/Dataset/Xanthosoma nigrum Vell/6.jpg\n",
      "/home/uddi22/Desktop/wildLense/wild/Dataset/Xanthosoma nigrum Vell/7.jpg\n",
      "/home/uddi22/Desktop/wildLense/wild/Dataset/Xanthosoma nigrum Vell/8.jpg\n",
      "/home/uddi22/Desktop/wildLense/wild/Dataset/Xanthosoma nigrum Vell/9.jpg\n",
      "/home/uddi22/Desktop/wildLense/wild/Dataset/Xanthosoma nigrum Vell/10.jpg\n",
      "/home/uddi22/Desktop/wildLense/wild/Dataset/Xanthosoma nigrum Vell/11.jpg\n",
      "/home/uddi22/Desktop/wildLense/wild/Dataset/Xanthosoma nigrum Vell/12.jpg\n",
      "/home/uddi22/Desktop/wildLense/wild/Dataset/Xanthosoma nigrum Vell/13.jpg\n",
      "/home/uddi22/Desktop/wildLense/wild/Dataset/Xanthosoma nigrum Vell/14.jpg\n",
      "/home/uddi22/Desktop/wildLense/wild/Dataset/Xanthosoma nigrum Vell/15.jpg\n",
      "/home/uddi22/Desktop/wildLense/wild/Dataset/Xanthosoma nigrum Vell/16.jpg\n",
      "/home/uddi22/Desktop/wildLense/wild/Dataset/Xanthosoma nigrum Vell/17.jpg\n",
      "/home/uddi22/Desktop/wildLense/wild/Dataset/Xanthosoma nigrum Vell/18.jpg\n",
      "/home/uddi22/Desktop/wildLense/wild/Dataset/Xanthosoma nigrum Vell/19.jpg\n",
      "/home/uddi22/Desktop/wildLense/wild/Dataset/Xanthosoma nigrum Vell/20.jpg\n",
      "/home/uddi22/Desktop/wildLense/wild/Dataset/Xanthosoma nigrum Vell/21.jpg\n",
      "/home/uddi22/Desktop/wildLense/wild/Dataset/Xanthosoma nigrum Vell/22.jpg\n",
      "/home/uddi22/Desktop/wildLense/wild/Dataset/Xanthosoma nigrum Vell/23.jpg\n",
      "/home/uddi22/Desktop/wildLense/wild/Dataset/Xanthosoma nigrum Vell/24.jpg\n",
      "/home/uddi22/Desktop/wildLense/wild/Dataset/Xanthosoma sagittifolium L/1.jpg\n",
      "/home/uddi22/Desktop/wildLense/wild/Dataset/Xanthosoma sagittifolium L/2.jpg\n",
      "/home/uddi22/Desktop/wildLense/wild/Dataset/Xanthosoma sagittifolium L/3.jpg\n",
      "/home/uddi22/Desktop/wildLense/wild/Dataset/Xanthosoma sagittifolium L/4.jpg\n",
      "/home/uddi22/Desktop/wildLense/wild/Dataset/Xanthosoma sagittifolium L/5.jpg\n",
      "/home/uddi22/Desktop/wildLense/wild/Dataset/Xanthosoma sagittifolium L/6.jpg\n",
      "/home/uddi22/Desktop/wildLense/wild/Dataset/Xanthosoma sagittifolium L/7.jpg\n",
      "/home/uddi22/Desktop/wildLense/wild/Dataset/Xanthosoma sagittifolium L/8.jpg\n",
      "/home/uddi22/Desktop/wildLense/wild/Dataset/Xanthosoma sagittifolium L/9.jpg\n"
     ]
    }
   ],
   "source": [
    "for root, dirs, files in os.walk(start_dir):\n",
    "    i = 0\n",
    "    for file in files:\n",
    "        file_path = os.path.join(root, file)\n",
    "        file_extension = os.path.splitext(file_path)[1]\n",
    "        i = i+1\n",
    "        new_file_name = root+\"/\"+str(i)+file_extension\n",
    "        os.rename(file_path, new_file_name)\n",
    "        print(new_file_name)"
   ]
  },
  {
   "cell_type": "markdown",
   "id": "5032a90b",
   "metadata": {},
   "source": [
    "### Analyze number of images in each classes"
   ]
  },
  {
   "cell_type": "code",
   "execution_count": 5,
   "id": "57208c70",
   "metadata": {},
   "outputs": [
    {
     "data": {
      "text/plain": [
       "7"
      ]
     },
     "execution_count": 5,
     "metadata": {},
     "output_type": "execute_result"
    }
   ],
   "source": [
    "class_list = os.listdir(start_dir)\n",
    "len(class_list)"
   ]
  },
  {
   "cell_type": "code",
   "execution_count": 6,
   "id": "385b0420",
   "metadata": {},
   "outputs": [],
   "source": [
    "num_img_list = []\n",
    "for root, dirs, files in os.walk(start_dir):\n",
    "    num_img = len(files)\n",
    "    num_img_list.append(num_img)"
   ]
  },
  {
   "cell_type": "code",
   "execution_count": 7,
   "id": "70bc407d",
   "metadata": {},
   "outputs": [
    {
     "data": {
      "text/plain": [
       "8"
      ]
     },
     "execution_count": 7,
     "metadata": {},
     "output_type": "execute_result"
    }
   ],
   "source": [
    "len(num_img_list)"
   ]
  },
  {
   "cell_type": "code",
   "execution_count": 8,
   "id": "2188ea2b",
   "metadata": {},
   "outputs": [
    {
     "data": {
      "text/plain": [
       "{'Eryngium foetidum': 10,\n",
       " 'chromolaena odorata (L.) Voigt': 10,\n",
       " 'Amaranthus viridis L': 49,\n",
       " 'Justicia adhatoda L. Syn.  Adhatoda vasica Nees': 9,\n",
       " 'Hydrocotyle sibthorpioides Lamk': 9,\n",
       " 'Xanthosoma nigrum Vell': 12,\n",
       " 'Xanthosoma sagittifolium L': 4}"
      ]
     },
     "execution_count": 8,
     "metadata": {},
     "output_type": "execute_result"
    }
   ],
   "source": [
    "data_dict = {class_list[i]: num_img_list[i+1] for i in range(len(class_list))}\n",
    "data_dict"
   ]
  },
  {
   "cell_type": "code",
   "execution_count": 9,
   "id": "bd067c6e",
   "metadata": {},
   "outputs": [
    {
     "data": {
      "text/plain": [
       "4"
      ]
     },
     "execution_count": 9,
     "metadata": {},
     "output_type": "execute_result"
    }
   ],
   "source": [
    "(min(data_dict.values()))"
   ]
  },
  {
   "cell_type": "code",
   "execution_count": 11,
   "id": "248d818c",
   "metadata": {},
   "outputs": [
    {
     "data": {
      "image/png": "[encoded data removed]",
      "text/plain": [
       "<Figure size 1200x600 with 2 Axes>"
      ]
     },
     "metadata": {},
     "output_type": "display_data"
    }
   ],
   "source": [
    "import matplotlib.pyplot as plt\n",
    "import seaborn as sns\n",
    "\n",
    "x = list(data_dict.keys())\n",
    "y = list(data_dict.values())\n",
    "\n",
    "color_map = plt.cm.viridis\n",
    "normalize = plt.Normalize(min(y), max(y))\n",
    "plt.figure(figsize=(12, 6))\n",
    "ax = sns.barplot(x=x, y=y, palette=color_map(normalize(y)))\n",
    "\n",
    "plt.xlabel('wild edible plants classes')\n",
    "plt.ylabel('number od images in each class')\n",
    "plt.title('Dataset Description')\n",
    "plt.xticks(rotation=90, fontsize = 10)  \n",
    "\n",
    "sm = plt.cm.ScalarMappable(cmap=color_map, norm=normalize)\n",
    "sm.set_array([])\n",
    "cbar = plt.colorbar(sm)\n",
    "\n",
    "plt.tight_layout()\n",
    "plt.show()"
   ]
  },
  {
   "cell_type": "code",
   "execution_count": null,
   "id": "f9d1f877",
   "metadata": {},
   "outputs": [],
   "source": []
  }
 ],
 "metadata": {
  "kernelspec": {
   "display_name": "Python 3 (ipykernel)",
   "language": "python",
   "name": "python3"
  },
  "language_info": {
   "codemirror_mode": {
    "name": "ipython",
    "version": 3
   },
   "file_extension": ".py",
   "mimetype": "text/x-python",
   "name": "python",
   "nbconvert_exporter": "python",
   "pygments_lexer": "ipython3",
   "version": "3.10.12"
  }
 },
 "nbformat": 4,
 "nbformat_minor": 5
}
